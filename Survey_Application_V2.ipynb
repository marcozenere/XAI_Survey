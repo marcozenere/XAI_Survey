{
 "cells": [
  {
   "cell_type": "code",
   "execution_count": 268,
   "id": "d6a99418-013e-4d52-bf65-3e1c606a00f0",
   "metadata": {},
   "outputs": [],
   "source": [
    "# Libraries Import"
   ]
  },
  {
   "cell_type": "code",
   "execution_count": 269,
   "id": "11109e41-272c-4a3c-8b00-671655e1bca1",
   "metadata": {},
   "outputs": [],
   "source": [
    "import pandas as pd\n",
    "import numpy as np\n",
    "from scipy.io import arff\n",
    "import ipywidgets as widgets\n",
    "from IPython.display import Markdown, SVG\n",
    "from datetime import datetime\n",
    "import random\n",
    "import urllib.request, json \n",
    "import gspread"
   ]
  },
  {
   "cell_type": "code",
   "execution_count": 270,
   "id": "a6cb058a-d4df-4e1a-ba25-f712757054d6",
   "metadata": {},
   "outputs": [],
   "source": [
    "# Dataset Load\n",
    "data = arff.loadarff(\"./datasets/WINE.txt.arff\")\n",
    "dataset = pd.DataFrame(data[0])"
   ]
  },
  {
   "cell_type": "code",
   "execution_count": 271,
   "id": "31af8656-9ba5-45ff-a235-40abe0b39c70",
   "metadata": {},
   "outputs": [],
   "source": [
    "def labelConversion(label):\n",
    "    if label == b'1':\n",
    "        return '1'\n",
    "    elif label == b'2':\n",
    "        return '2'\n",
    "    else:\n",
    "        return '3'\n",
    "\n",
    "dataset['Class'] = dataset['Class'].apply(lambda x: labelConversion(x))"
   ]
  },
  {
   "cell_type": "code",
   "execution_count": 272,
   "id": "079230c4-35ef-4633-ba53-f737b0ac53f7",
   "metadata": {},
   "outputs": [],
   "source": [
    "# \"Ingredients\" for the preparation of the survey "
   ]
  },
  {
   "cell_type": "code",
   "execution_count": 273,
   "id": "f65844e4-3fbc-4141-994c-652f9869f0ed",
   "metadata": {},
   "outputs": [],
   "source": [
    "questions_numbers = [n for n in range(5)]"
   ]
  },
  {
   "cell_type": "code",
   "execution_count": 274,
   "id": "d87aa093-df98-4dde-8cdc-baab51e7193f",
   "metadata": {},
   "outputs": [],
   "source": [
    "def warm_upAnswers(current_web_page):\n",
    "    if current_web_page.__name__ == 'warmUpWebPage':\n",
    "        if example_selection_1.value != None and example_selection_2.value != None:\n",
    "            return True\n",
    "        else:\n",
    "            return False"
   ]
  },
  {
   "cell_type": "code",
   "execution_count": 275,
   "id": "8776e687-570c-4fed-8a3c-a47513ca048e",
   "metadata": {},
   "outputs": [],
   "source": [
    "next_button = widgets.Button(\n",
    "    description='Next'\n",
    ")\n",
    "\n",
    "submit_button = widgets.Button(\n",
    "    description='Submit'\n",
    ")\n",
    "\n",
    "output = widgets.Output()"
   ]
  },
  {
   "cell_type": "code",
   "execution_count": 276,
   "id": "2ffc7b5c-164d-4d08-ba4e-eb85fc7659ed",
   "metadata": {},
   "outputs": [],
   "source": [
    "# Preparation of the Questions section of the survey\n",
    "\n",
    "questions_selection = []\n",
    "for x in range(5):\n",
    "    questions_selection.append(widgets.RadioButtons(\n",
    "        options=[('Class 1', '1'), ('Class 2', '2'), ('Class 3', '3')],\n",
    "        value=None,\n",
    "        disabled=False\n",
    "    ))\n",
    "\n",
    "questions_samples = [dataset.iloc[0],dataset.iloc[58],dataset.iloc[164],dataset.iloc[177],dataset.iloc[156]]\n",
    "correct_classifications = []\n",
    "\n",
    "random.shuffle(questions_samples)\n",
    "\n",
    "for n,sample in zip(range(5),questions_samples.copy()):\n",
    "    correct_classifications.append(questions_samples[n][-1])\n",
    "    questions_samples[n] = questions_samples[n][:-1]"
   ]
  },
  {
   "cell_type": "code",
   "execution_count": 277,
   "id": "f8c16e02-fbad-48ab-a5c0-a3c250429a89",
   "metadata": {},
   "outputs": [],
   "source": [
    "gender_selection = widgets.RadioButtons(\n",
    "    options=[('Male', '1'), ('Female', '2'), ('Other', '3')],\n",
    "    value=None,\n",
    "    disabled=False\n",
    ")\n",
    "\n",
    "age_selection = widgets.RadioButtons(\n",
    "    options=[('18-20', '1'), ('21-29', '2'), ('30-39', '3'),('40-49', '4'),('50-59', '5'),('60 or older', '6')],\n",
    "    value=None,\n",
    "    disabled=False\n",
    ")\n",
    "\n",
    "education_selection = widgets.RadioButtons(\n",
    "    options=[('Less than high school degree', '1'), ('High school degree or equivalent', '2'), ('Bachelor degree', '3'),('Graduate degree', '4')],\n",
    "    value=None,\n",
    "    disabled=False\n",
    ")\n",
    "\n",
    "english_level_selection = widgets.RadioButtons(\n",
    "    options=[('A1', '1'), ('A2', '2'), ('B1', '3'), ('B2', '4'), ('C1', '5'), ('C2', '6')],\n",
    "    value=None,\n",
    "    disabled=False\n",
    ")"
   ]
  },
  {
   "cell_type": "code",
   "execution_count": 278,
   "id": "d55ae17d-3c72-4efc-9fb3-c369d10629a2",
   "metadata": {},
   "outputs": [],
   "source": [
    "participant_suggestion_text_area = (widgets.Textarea(\n",
    "        value='',\n",
    "        disabled=False\n",
    "    ))"
   ]
  },
  {
   "cell_type": "code",
   "execution_count": 279,
   "id": "d9ed20db-6c7e-477f-8ef1-6a7d609abad8",
   "metadata": {},
   "outputs": [],
   "source": [
    "def welcomeWebPage():\n",
    "    output.clear_output()\n",
    "    with output:\n",
    "        display(Markdown(\"# Survey of the interpretability of decision trees\"))\n",
    "        display(Markdown('''This questionnaire aims to evaluate the interpretability of decision trees. We want to understand what makes a decision tree more interpretable than others. \n",
    "        This survey uses an activity-based rating in which we ask you to solve a problem, and each question comes with a few rating questions related to the activity.\n",
    "        \\nThis study is done for research purposes and carried out by researchers from the University of Bolzano. We collect information that agrees with the European Union's General Data Protection Regulation (GDPR). The data collected is for research purposes only and based on non-personal or anonymous data provided during your voluntary participation.\n",
    "        \\nThe survey takes 10 minutes to complete.\n",
    "        \\nIn case of questions or doubts, send an email to Marco.Zenere@stud-inf.unibz.it.'''))\n",
    "        display(Markdown('''By clicking the next button, you partecipate to the questionnaire and confirm that:\n",
    "        \\n- You have reached the age of majority\n",
    "        \\n- You acknowledge that your participation is completely voluntary\n",
    "        \\n- You acknowledge that your anonymous responses may be used for research purposes in accordance with General Data Protection Regulation'''))\n",
    "        display(next_button)\n",
    "    display(output)"
   ]
  },
  {
   "cell_type": "code",
   "execution_count": 280,
   "id": "890c7e23-e903-4b45-b7cb-e00f3710500c",
   "metadata": {},
   "outputs": [],
   "source": [
    "def introductionWebPage():\n",
    "    \n",
    "    output.clear_output()\n",
    "    with output:\n",
    "        display(Markdown('## Introduction'))\n",
    "        display(Markdown('''The data used in this questionnaire is part of the wine dataset provided by UCI. These data are the results of a chemical analysis of wines grown in the same region in Italy but derived from three different cultivars. The analysis determined the quantities of 13 constituents found in each of the three types of wines.\n",
    "                            \\n- Alcohol\n",
    "                            \\n- Malic acid\n",
    "                            \\n- Ash\n",
    "                            \\n- Alcalinity of ash\n",
    "                            \\n- Magnesium\n",
    "                            \\n- Total phenols\n",
    "                            \\n- Flavanoids\n",
    "                            \\n- Nonflavanoid phenols\n",
    "                            \\n- Proanthocyanins\n",
    "                            \\n- Color intensity\n",
    "                            \\n- Hue\n",
    "                            \\n- OD280/OD315 of diluted wines\n",
    "                            \\n- Proline\n",
    "\n",
    "                            \\nThis questionnaire considers decision tree representation in the form depicted below.'''))\n",
    "        \n",
    "        display(SVG(filename='./Images/Decision_Tree_3_layers.svg'))\n",
    "        \n",
    "        display(Markdown('### How to interpret the decision tree?'))\n",
    "        \n",
    "        display(Markdown('''A decision tree is a tree-like model that checks one attribute/feature at a time of a given instance to classify it in one of the classes of the domain of interest. \n",
    "                         A decision tree is made up of several levels and nodes. Each level is composed of one or more nodes, and the nodes correspond to the features of the domain of interest. \n",
    "                         Typically, a decision tree considers part of the available features, which correspond to those most relevant to correctly classifying an instance of the domain.  \n",
    "                         Each node evaluates whether the value of the considered attribute is above a specific threshold. If the attribute value exceeds the threshold, the decision tree will test the attribute on the right path. Otherwise, it will test the one on the left path. \n",
    "                         In the decision tree representation of the following survey, the threshold of each node is represented by the black triangle in the histogram, and each node is a histogram. To classify an instance of the domain of interest, the decision tree must reach one of the leaf nodes starting from the root node. A leaf node could be impure, so there could be the case where the leaf node contains multiple classes. \n",
    "                         The decision tree representation in the following survey highlights the composition of each leaf node and indicates the dominant class.'''))\n",
    "        display(Markdown(\"Let's take a look at an example.\"))\n",
    "        display(next_button)"
   ]
  },
  {
   "cell_type": "code",
   "execution_count": 281,
   "id": "55615898-6f08-4984-8114-82aa48ccf543",
   "metadata": {},
   "outputs": [],
   "source": [
    "def exampleWebPage():\n",
    "    output.clear_output()\n",
    "    with output:\n",
    "        display(Markdown('## Example'))\n",
    "        display(Markdown('Considering we have a wine instance with the following features:'))\n",
    "        # Example 1\n",
    "        example = dataset.iloc[1][:-1].to_frame()\n",
    "        example.rename(columns = {example.columns[0]:''}, inplace = True)\n",
    "        display(example.transpose())\n",
    "        # SVG Image\n",
    "        display(SVG(filename='./Images/Decision_Tree_3_layers.svg'))\n",
    "        # Explanation\n",
    "        display(Markdown('''Considering the above decision tree representation and starting from the top level of the decision tree, the first feature to consider is the Proline. \n",
    "        The value of the example is above the threshold of 760.0, so we need to take the right path of the decision tree and continue to go through the tree. \n",
    "        The next feature we need to consider is Flavanoids, and the example has a value above the threshold of 2.17 and as before we need to take the right path of the decision tree and continue to go through the tree.\n",
    "        The last feature to consider before the classification of the example is Magnesium. Our example has a value under the threshold of 135.50, and by taking the left path of the decision tree, we can conclude that the wine is of Class 1.'''))\n",
    "        display(SVG(filename='./Images/Decision_Tree_3_layers_answer.svg'))\n",
    "        display(Markdown(\"Before starting the survey, let's do a quick warm-up to understand whether or not the concept is clear.\"))\n",
    "        display(next_button)"
   ]
  },
  {
   "cell_type": "code",
   "execution_count": 282,
   "id": "bf9d4483-9367-4770-9e5a-4d75d0115f88",
   "metadata": {},
   "outputs": [],
   "source": [
    "def warmUpWebPage():\n",
    "    output.clear_output()\n",
    "    with output:\n",
    "        display(Markdown('## Warm-Up'))\n",
    "        display(Markdown('Considering we have a wine with the following features:'))\n",
    "        # Example 96\n",
    "        example = dataset.iloc[96][:-1].to_frame()\n",
    "        example.rename(columns = {example.columns[0]:''}, inplace = True)\n",
    "        display(example.transpose())\n",
    "        # SVG Image\n",
    "        display(Markdown(\"Let's consider the decision tree representation below.\"))\n",
    "        display(SVG(filename='./Images/Decision_Tree_3_layers.svg'))\n",
    "        # Warm-Up Questions\n",
    "        display(Markdown(' ### Which class correspond the wine with the following features ?'))\n",
    "        example_selection_1 = widgets.RadioButtons(\n",
    "                                options=[('Class 1', '1'), ('Class 2', '2'), ('Class 3', '3')],\n",
    "                                value=None,\n",
    "                                disabled=False\n",
    "                                )\n",
    "        display(example_selection_1)\n",
    "        display(Markdown('### Which of the following features/attributes did you consider for the classification?'))\n",
    "        example_selection_2 = widgets.RadioButtons(\n",
    "                                options=[('Proline, OD280/OD315, and Flavanoids', '1'), ('Proline, OD280/OD315, and Hue', '2'), ('Proline, Flavanoids, and Magnesium', '3'), ('Proline, Flavanoids, and Hue', '4')],\n",
    "                                value=None,\n",
    "                                disabled=False\n",
    "                                )\n",
    "        display(example_selection_2)\n",
    "        display(Markdown('The warm-up is completed. Click the next button to read the instructions of the survey.'))\n",
    "        display(next_button)"
   ]
  },
  {
   "cell_type": "code",
   "execution_count": 283,
   "id": "7f77da10-86a0-410b-a70b-2ba11c9e99cf",
   "metadata": {},
   "outputs": [],
   "source": [
    "def questionnaireInstructionWebPage():\n",
    "    output.clear_output()\n",
    "    with output:\n",
    "        display(Markdown('## Survey Instruction'))\n",
    "        display(Markdown('''The questionnaire is composed of five questions, and each of them is composed of the following elements:\n",
    "                            \\n- A wine instance features\n",
    "                            \\n- Two decision tree representations of the same domain of interest\n",
    "                            \\n- A set of mandatory questions: three questions for evaluating the decision tree representations, one for specifying the classification of the given wine instance\n",
    "                            \\n- An optional section for leaving additional comments\n",
    "\n",
    "                            \\nAfter completing the five questions, there will be four questions to understand who you are, to be able to do a demographic analysis of the participants.\n",
    "\n",
    "                            \\nYou can start the survey.'''))\n",
    "        display(next_button)"
   ]
  },
  {
   "cell_type": "code",
   "execution_count": 284,
   "id": "a581258d-931c-4c94-83ce-e4aa7cae53d9",
   "metadata": {},
   "outputs": [],
   "source": [
    "def questionWebPage():\n",
    "    output.clear_output()\n",
    "    with output:\n",
    "        question_number = questions_numbers.pop(0)\n",
    "        display(Markdown('## Question %s'%(str(question_number + 1))))\n",
    "        # Wine instance extraction from preselected sample\n",
    "        display(Markdown('''Considering a wine instance with the following features:'''))\n",
    "        sample_DataFrame = questions_samples.pop(0).to_frame()\n",
    "        sample_DataFrame.rename(columns = {sample_DataFrame.columns[0]:''}, inplace = True)\n",
    "        display(sample_DataFrame.transpose())\n",
    "        display(Markdown(\"Let's consider the following decision tree representation:\"))\n",
    "        # Random selection of a decision tree representation\n",
    "        image_selector = random.randint(0,100)\n",
    "        if image_selector % 2 == 0 :\n",
    "            display(SVG(filename='./Images/Decision_Tree_3_layers.svg'))\n",
    "        else:\n",
    "            display(SVG(filename='./Images/Decision_Tree_5_layers.svg'))\n",
    "        # Radio Button/Question\n",
    "        display(Markdown(\"### Which class correspond the wine with the following features?\"))\n",
    "        display(questions_selection[question_number])\n",
    "        display(next_button)"
   ]
  },
  {
   "cell_type": "code",
   "execution_count": 285,
   "id": "1b9746db-641d-4b60-8068-004aa006b9f2",
   "metadata": {},
   "outputs": [],
   "source": [
    "def participantCommentWebPage():\n",
    "    output.clear_output()\n",
    "    with output:\n",
    "        display(Markdown('## Additional Comment'))\n",
    "        display(Markdown('If you have a comment or suggestion regarding the questionnaire you want to tell us, please fill the text box below.'))\n",
    "        display(participant_suggestion_text_area)\n",
    "        display(next_button)"
   ]
  },
  {
   "cell_type": "code",
   "execution_count": 286,
   "id": "3a0c16f3-d580-4f68-8651-1932c8bc5430",
   "metadata": {},
   "outputs": [],
   "source": [
    "def participatInfoWebPage():\n",
    "    output.clear_output()\n",
    "    with output:\n",
    "        display(Markdown('## Information about the survey participant'))\n",
    "        display(Markdown('We would like to collect some information about you to do a demographic analysis of the participants in our survey.'))\n",
    "        display(Markdown('### Gender'))\n",
    "        display(gender_selection)\n",
    "        display(Markdown('### Age'))\n",
    "        display(age_selection)\n",
    "        display(Markdown('### Education'))\n",
    "        display(education_selection)\n",
    "        display(Markdown('### English Level'))\n",
    "        display(english_level_selection)\n",
    "        display(submit_button)"
   ]
  },
  {
   "cell_type": "code",
   "execution_count": 287,
   "id": "c7b836bb-ba7e-4c38-8b93-58f40a34c8c1",
   "metadata": {},
   "outputs": [],
   "source": [
    "def endquestionnaireWebPage():\n",
    "    output.clear_output()\n",
    "    with output:\n",
    "        display(Markdown('## The questionnaire is concluded'))\n",
    "        display(Markdown('The Survey was submitted correctly. You can close the browser tab. Thanks for the partecipation'))"
   ]
  },
  {
   "cell_type": "code",
   "execution_count": 288,
   "id": "3bad4bd8-fe2f-4b25-bda0-319e8b7ce44d",
   "metadata": {},
   "outputs": [],
   "source": [
    "web_pages_order = [introductionWebPage, exampleWebPage, warmUpWebPage, questionnaireInstructionWebPage, questionWebPage, questionWebPage, questionWebPage, questionWebPage, questionWebPage, participantCommentWebPage, participatInfoWebPage, endquestionnaireWebPage]"
   ]
  },
  {
   "cell_type": "code",
   "execution_count": 289,
   "id": "525eae93-17dd-465b-898b-e5f3af8ba144",
   "metadata": {},
   "outputs": [],
   "source": [
    "web_pages = ['introductionWebPage', 'exampleWebPage']"
   ]
  },
  {
   "cell_type": "code",
   "execution_count": 290,
   "id": "b0a19a33-116d-4296-bc04-eeb9e534db56",
   "metadata": {},
   "outputs": [],
   "source": [
    "\n",
    "def next_clicked(b):\n",
    "    web_page = web_pages_order.pop(0)\n",
    "    test = web_pages.pop(0)\n",
    "    with output:\n",
    "        # TO FIX\n",
    "        if test == 'exampleWebPage':\n",
    "            print(test)\n",
    "            web_page()\n",
    "\n",
    "def submit_clicked(b):\n",
    "    web_page = web_pages_order.pop(0)\n",
    "    web_page()\n",
    "    \n",
    "next_button.on_click(next_clicked)\n",
    "submit_button.on_click(submit_clicked)"
   ]
  },
  {
   "cell_type": "code",
   "execution_count": 291,
   "id": "0c2fd118-48bb-4929-9723-ea00634b8d0a",
   "metadata": {},
   "outputs": [
    {
     "data": {
      "application/vnd.jupyter.widget-view+json": {
       "model_id": "180fb837297643eab0e3ed02e28f65ee",
       "version_major": 2,
       "version_minor": 0
      },
      "text/plain": [
       "Output()"
      ]
     },
     "metadata": {},
     "output_type": "display_data"
    }
   ],
   "source": [
    "welcomeWebPage()"
   ]
  },
  {
   "cell_type": "code",
   "execution_count": null,
   "id": "8bb2b1e0-a859-4894-949c-50fb805c76ec",
   "metadata": {},
   "outputs": [],
   "source": []
  },
  {
   "cell_type": "code",
   "execution_count": null,
   "id": "3eb05f1f-aa99-4abf-b381-ab4d96c28e94",
   "metadata": {},
   "outputs": [],
   "source": []
  }
 ],
 "metadata": {
  "kernelspec": {
   "display_name": "Python 3 (ipykernel)",
   "language": "python",
   "name": "python3"
  },
  "language_info": {
   "codemirror_mode": {
    "name": "ipython",
    "version": 3
   },
   "file_extension": ".py",
   "mimetype": "text/x-python",
   "name": "python",
   "nbconvert_exporter": "python",
   "pygments_lexer": "ipython3",
   "version": "3.10.2"
  }
 },
 "nbformat": 4,
 "nbformat_minor": 5
}
