{
 "cells": [
  {
   "cell_type": "code",
   "execution_count": 1,
   "id": "53e56251-5d0b-4fab-9fb7-7cd390357dc1",
   "metadata": {},
   "outputs": [],
   "source": [
    "# Libraries Import"
   ]
  },
  {
   "cell_type": "code",
   "execution_count": 2,
   "id": "102b1bc5",
   "metadata": {},
   "outputs": [],
   "source": [
    "import pandas as pd\n",
    "import numpy as np\n",
    "from scipy.io import arff\n",
    "import ipywidgets as widgets\n",
    "from IPython.display import SVG\n",
    "from datetime import datetime\n",
    "import random\n",
    "import urllib.request, json \n",
    "import gspread"
   ]
  },
  {
   "cell_type": "code",
   "execution_count": 3,
   "id": "a56e1769-6f0f-48d4-af97-40bc129c0a47",
   "metadata": {},
   "outputs": [],
   "source": [
    "# Dataset Load\n",
    "data = arff.loadarff(\"./datasets/WINE.txt.arff\")\n",
    "dataset = pd.DataFrame(data[0])"
   ]
  },
  {
   "cell_type": "code",
   "execution_count": 4,
   "id": "9c3ea588-23c9-4156-8bc5-0e512cf6a62c",
   "metadata": {},
   "outputs": [],
   "source": [
    "with urllib.request.urlopen(\"https://xaisurvey.s3.amazonaws.com/survey_bot.json\") as url:\n",
    "    survey_bot = json.loads(url.read().decode())"
   ]
  },
  {
   "cell_type": "code",
   "execution_count": 5,
   "id": "96661abf-692e-4a2c-920f-9d90b3418391",
   "metadata": {},
   "outputs": [],
   "source": [
    "def labelConversion(label):\n",
    "    if label == b'1':\n",
    "        return '1'\n",
    "    elif label == b'2':\n",
    "        return '2'\n",
    "    else:\n",
    "        return '3'\n",
    "\n",
    "dataset['Class'] = dataset['Class'].apply(lambda x: labelConversion(x))"
   ]
  },
  {
   "cell_type": "code",
   "execution_count": 6,
   "id": "90e69cf3",
   "metadata": {},
   "outputs": [],
   "source": [
    "# \"Ingredients\" for the preparation of the survey \n",
    "N = 5\n",
    "questions_numbers = [n for n in range(N)] \n",
    "questions_datetime = []\n",
    "questions_representation = []"
   ]
  },
  {
   "cell_type": "code",
   "execution_count": 7,
   "id": "1772b2bf-9a15-4747-968f-98e808d785e4",
   "metadata": {},
   "outputs": [],
   "source": [
    "comprehension_test_datetime = []"
   ]
  },
  {
   "cell_type": "code",
   "execution_count": 8,
   "id": "19f9806a",
   "metadata": {},
   "outputs": [],
   "source": [
    "# Definition of the buttons in the questionnaire\n",
    "next_button = widgets.Button(\n",
    "    description='Next'\n",
    ")\n",
    "\n",
    "submit_button = widgets.Button(\n",
    "    description='Submit'\n",
    ")\n",
    "\n",
    "output = widgets.Output()"
   ]
  },
  {
   "cell_type": "code",
   "execution_count": 9,
   "id": "1139b73e",
   "metadata": {},
   "outputs": [],
   "source": [
    "# Comprehension Test Section elements definition (radio buttons, dropdowns, etc)\n",
    "example_selection_1 = widgets.RadioButtons(\n",
    "                                options=[('Class 1', '1'), ('Class 2', '2'), ('Class 3', '3')],\n",
    "                                value=None,\n",
    "                                disabled=False\n",
    "                      )\n",
    "example_selection_2 = widgets.RadioButtons(\n",
    "                                options=[('Proline, OD280/OD315, and Flavanoids', '1'), ('Proline, OD280/OD315, and Hue', '2'), ('Proline, Flavanoids, and Magnesium', '3'), ('Proline, Flavanoids, and Hue', '4')],\n",
    "                                value=None,\n",
    "                                disabled=False\n",
    "                      )"
   ]
  },
  {
   "cell_type": "code",
   "execution_count": 10,
   "id": "4be61b33",
   "metadata": {},
   "outputs": [],
   "source": [
    "# Preparation of the Questions section of the survey\n",
    "questions_selection = []\n",
    "for x in range(N):\n",
    "    questions_selection.append(widgets.RadioButtons(\n",
    "        options=[('Class 1', '1'), ('Class 2', '2'), ('Class 3', '3')],\n",
    "        value=None,\n",
    "        disabled=False\n",
    "    ))\n",
    "\n",
    "questions_samples = [dataset.iloc[0],dataset.iloc[58],dataset.iloc[164],dataset.iloc[177],dataset.iloc[156]]\n",
    "correct_classifications = []\n",
    "questions_order = []\n",
    "\n",
    "random.shuffle(questions_samples)\n",
    "\n",
    "for n,sample in zip(range(5),questions_samples.copy()):\n",
    "    correct_classifications.append(questions_samples[n][-1])\n",
    "    questions_samples[n] = questions_samples[n][:-1]\n",
    "    questions_order.append(questions_samples[n].name)"
   ]
  },
  {
   "cell_type": "code",
   "execution_count": 11,
   "id": "9ab48ee5",
   "metadata": {},
   "outputs": [],
   "source": [
    "# Preparation of the Participant information section\n",
    "\n",
    "gender_selection = widgets.RadioButtons(\n",
    "    options=[('Male', '1'), ('Female', '2'), ('Other', '3'), ('Prefer not to say', '4')],\n",
    "    value=None,\n",
    "    disabled=False\n",
    ")\n",
    "\n",
    "age_selection = widgets.RadioButtons(\n",
    "    options=[('18-20', '1'), ('21-29', '2'), ('30-39', '3'),('40-49', '4'),('50-59', '5'),('60 or older', '6')],\n",
    "    value=None,\n",
    "    disabled=False\n",
    ")\n",
    "\n",
    "education_selection = widgets.RadioButtons(\n",
    "    options=[('Less than high school degree', '1'), ('High school degree or equivalent', '2'), ('Undergraduate', '3'),('Graduate', '4')],\n",
    "    value=None,\n",
    "    disabled=False\n",
    ")\n",
    "\n",
    "english_level_selection = widgets.RadioButtons(\n",
    "    options=[('Beginner (A1)', '1'), ('Elementary (A2)', '2'), ('Lower Intermidiate (B1)', '3'), ('Upper Intermidiate (B2)', '4'), ('Advanced (C1)', '5'), ('Proficient (C2)', '6')],\n",
    "    value=None,\n",
    "    disabled=False\n",
    ")"
   ]
  },
  {
   "cell_type": "code",
   "execution_count": 12,
   "id": "19ffd8d3-7400-4955-9bd4-b617c1be3d68",
   "metadata": {},
   "outputs": [],
   "source": [
    "# Preparation of the Additional comment section\n",
    "\n",
    "participant_suggestion_text_area = (widgets.Textarea(\n",
    "        value='',\n",
    "        disabled=False\n",
    "    ))"
   ]
  },
  {
   "cell_type": "code",
   "execution_count": 13,
   "id": "43e349fc",
   "metadata": {},
   "outputs": [],
   "source": [
    "def welcomeWebPage():\n",
    "    output.clear_output()\n",
    "    with output:\n",
    "        display(widgets.HTML(value = '''<h1>Survey of the interpretability of decision trees</h1>'''))\n",
    "        display(widgets.HTML(value = '''<p>Welcome! This questionnaire aims to evaluate the interpretability of decision trees. In this survey, you will be asked to evaluate explanations in terms of decision tree interpretability following the instructions outlined in the next screens.<p>'''))\n",
    "        display(widgets.HTML(value = '''<p>This study is carried out by researchers from Free University of Bolzano. The information that we collect is in agreement with European Union's General Data Protection Regulation (<a href=\"https://eur-lex.europa.eu/eli/reg/2016/679/oj\">GDPR</a>). In addition, this research has been approved by the related Ethics Committee. \n",
    "        It is meant for research purposes only and based on non-personal or anonymous data which is provided during your voluntary participation.</p>'''))\n",
    "        display(widgets.HTML(value = '''<p>It is expected to take you about 10 minutes to complete the survey. During that time, please, focus only on the survey and avoid any unnecessary interruptions until it is completed. If any break is needed, take it between tasks.<br>\n",
    "        Should you have any questions regarding this survey, please address them to Marco Zenere (Marco.Zenere@stud-inf.unibz.it), the survey and data manager, before starting.</p>'''))\n",
    "        display(widgets.HTML(value = '''<p>By clicking the next button, you partecipate to the questionnaire and confirm that:<br>\n",
    "        <ul>\n",
    "            <li> You have reached the age of majority </li>\n",
    "            <li> You acknowledge that your participation is completely voluntary </li>\n",
    "            <li> You acknowledge that your anonymous responses may be used for research purposes in accordance with General Data Protection Regulation </li>\n",
    "        </ul>\n",
    "        </p>'''))\n",
    "        display(next_button)\n",
    "    display(output)"
   ]
  },
  {
   "cell_type": "code",
   "execution_count": 14,
   "id": "d4c4f200",
   "metadata": {},
   "outputs": [],
   "source": [
    "def introductionWebPage():\n",
    "    \n",
    "    output.clear_output()\n",
    "    with output:\n",
    "        display(widgets.HTML(value = '''<h2>Introduction</h2>'''))\n",
    "        display(widgets.HTML(value = '''<p>The data used in this questionnaire is part of the wine dataset provided by UCI. These data are the results of a chemical analysis of wines grown in the same region in Italy but derived from three different cultivars. The analysis determined the quantities of 13 constituents found in each of the three types of wines.\n",
    "        <ul>\n",
    "            <li> Alcohol </li>\n",
    "            <li> Malic acid </li>\n",
    "            <li> Ash </li>\n",
    "            <li> Alcalinity of ash </li>\n",
    "            <li> Magnesium </li>\n",
    "            <li> Total phenols </li>\n",
    "            <li> Flavanoids </li>\n",
    "            <li> Nonflavanoid phenols </li>\n",
    "            <li> Proanthocyanins </li>\n",
    "            <li> Color intensity </li>\n",
    "            <li> Hue </li>\n",
    "            <li> OD280/OD315 of diluted wines </li>\n",
    "            <li> Proline </li>\n",
    "        </ul>\n",
    "        This questionnaire considers decision tree representation in the form depicted below.</p>'''))\n",
    "        display(SVG(filename='./Images/Decision_Tree_3_layers.svg'))\n",
    "        display(widgets.HTML(value = '''<h3>How to interpret the decision tree?</h3>'''))\n",
    "        display(widgets.HTML(value = '''<p>A decision tree is a tree-like model that checks one attribute/feature at a time of a given instance to classify it in one of the classes of the domain of interest. \n",
    "                         A decision tree is made up of several levels and nodes. Each level is composed of one or more nodes, and the nodes correspond to the features of the domain of interest. \n",
    "                         Typically, a decision tree considers part of the available features, which correspond to those most relevant to correctly classifying an instance of the domain.  \n",
    "                         Each node evaluates whether the value of the considered attribute is above a specific threshold. If the attribute value exceeds the threshold, the decision tree will test the attribute on the right path. Otherwise, it will test the one on the left path. \n",
    "                         In the decision tree representation of the following survey, the threshold of each node is represented by the black triangle in the histogram, and each node is a histogram. To classify an instance of the domain of interest, the decision tree must reach one of the leaf nodes starting from the root node. A leaf node could be impure, so there could be the case where the leaf node contains multiple classes. \n",
    "                         The decision tree representation in the following survey highlights the composition of each leaf node and indicates the dominant class.</p>'''))\n",
    "        display(widgets.HTML(value = '''<p>Let's take a look at an example.</p>'''))\n",
    "        display(next_button)"
   ]
  },
  {
   "cell_type": "code",
   "execution_count": 15,
   "id": "2ad7815f",
   "metadata": {},
   "outputs": [],
   "source": [
    "def exampleWebPage():\n",
    "    output.clear_output()\n",
    "    with output:\n",
    "        display(widgets.HTML(value = '''<h2>Example</h2>'''))\n",
    "        display(widgets.HTML(value = '''<p>Considering we have a wine instance with the following features:</p>'''))\n",
    "\n",
    "        # Example 1\n",
    "        example = dataset.iloc[1][:-1].to_frame()\n",
    "        example.rename(columns = {example.columns[0]:''}, inplace = True)\n",
    "        display(example.transpose())\n",
    "        # SVG Image\n",
    "        display(SVG(filename='./Images/Decision_Tree_3_layers.svg'))\n",
    "        # Explanation\n",
    "        display(widgets.HTML(value = '''<p>Considering the above decision tree representation and starting from the top level of the decision tree, the first feature to consider is the Proline. \n",
    "        The value of the example is above the threshold of 760.0, so we need to take the right path of the decision tree and continue to go through the tree. \n",
    "        The next feature we need to consider is Flavanoids, and the example has a value above the threshold of 2.17 and as before we need to take the right path of the decision tree and continue to go through the tree.\n",
    "        The last feature to consider before the classification of the example is Magnesium. Our example has a value under the threshold of 135.50, and by taking the left path of the decision tree, we can conclude that the wine is of Class 1.</p>'''))\n",
    "        display(widgets.HTML(value = \"\"\"<p>Before starting the survey, let's do a quick comprehension test to understand whether or not the concept is clear.</p>\"\"\"))\n",
    "        \n",
    "        display(next_button)"
   ]
  },
  {
   "cell_type": "code",
   "execution_count": 16,
   "id": "9aa8dca2",
   "metadata": {},
   "outputs": [],
   "source": [
    "def comprehensionTestWebPage():\n",
    "    output.clear_output()\n",
    "    with output:\n",
    "        display(widgets.HTML(value = '''<h2>Comprehension Test</h2>'''))\n",
    "        \n",
    "        display(widgets.HTML(value = '''<p>Considering we have a wine with the following features:</p>'''))\n",
    "        \n",
    "        # Example 96\n",
    "        example = dataset.iloc[96][:-1].to_frame()\n",
    "        example.rename(columns = {example.columns[0]:''}, inplace = True)\n",
    "        display(example.transpose())\n",
    "        # SVG Image\n",
    "        display(widgets.HTML(value = '''<p>Let's consider the decision tree representation below.</p>'''))\n",
    "        display(SVG(filename='./Images/Decision_Tree_3_layers.svg'))\n",
    "        # Warm-Up Questions\n",
    "        display(widgets.HTML(value = '''<h3>Which class correspond the wine with the following features?</p>'''))\n",
    "        display(example_selection_1)\n",
    "        display(widgets.HTML(value = '''<h3>Which of the following features/attributes did you consider for the classification?</p>'''))\n",
    "        display(example_selection_2)\n",
    "        \n",
    "        display(next_button)\n",
    "        \n",
    "    # Datetime question displayed to the participant\n",
    "    comprehension_test_datetime.append(datetime.now())"
   ]
  },
  {
   "cell_type": "code",
   "execution_count": 17,
   "id": "fdc9c015",
   "metadata": {},
   "outputs": [],
   "source": [
    "def questionnaireInstructionWebPage():\n",
    "    output.clear_output()\n",
    "    with output:\n",
    "        display(widgets.HTML(value = '''<h2>Survey Instruction</h2>'''))\n",
    "        display(widgets.HTML(value = '''<p>The questionnaire is composed by five task-based questions, and each of them is made of the following elements:\n",
    "            <ul>\n",
    "            <li> The features of a wine instance. </li>\n",
    "            <li> A decision tree representation of the the domain of interest. </li>\n",
    "            <li> A question asking for the correct classification of the wine instance, considering the decision tree representation of the domain of interest. </li>\n",
    "            </ul>\n",
    "            Once the questions are complete, we will allow you to leave comments or suggestions on the questionnaire via the appropriate section. To conclude the questionnaire, we will ask you to provide us with some information about yourself to do a demographic analysis of the participants of this questionnaire. <br>\n",
    "            You can start the questionnaire</p>'''))\n",
    "        \n",
    "        display(next_button)\n",
    "        \n",
    "    # Datetime comprehension test was completed by the participant\n",
    "    comprehension_test_datetime.append(datetime.now())"
   ]
  },
  {
   "cell_type": "code",
   "execution_count": 18,
   "id": "6e62af80",
   "metadata": {},
   "outputs": [],
   "source": [
    "def questionWebPage():\n",
    "    output.clear_output()\n",
    "    with output:\n",
    "        question_number = questions_numbers.pop(0)\n",
    "        display(widgets.HTML(value = '''<h2>Question %s</h2>'''%(str(question_number + 1))))\n",
    "        \n",
    "        # Input\n",
    "        display(widgets.HTML(value='''<p>Considering a wine instance with the following features:</p>'''))\n",
    "        sample_DataFrame = questions_samples.pop(0).to_frame()\n",
    "        sample_DataFrame.rename(columns = {sample_DataFrame.columns[0]:''}, inplace = True)\n",
    "        display(sample_DataFrame.transpose())\n",
    "        \n",
    "        # Explanation\n",
    "        display(widgets.HTML(value = '''<p>Let's consider the following decision tree representation:</p>'''))\n",
    "        # Random selection of a decision tree representation\n",
    "        image_selector = random.randint(0,100)\n",
    "        if image_selector % 2 == 0 :\n",
    "            questions_representation.append('1')\n",
    "            display(SVG(filename='./Images/Decision_Tree_3_layers.svg'))\n",
    "        else:\n",
    "            questions_representation.append('2')\n",
    "            display(SVG(filename='./Images/Decision_Tree_5_layers.svg'))\n",
    "        \n",
    "        # Radio Button/Question\n",
    "        display(widgets.HTML(value = '''<h3>Which class correspond the wine with the following features?</h3>'''))\n",
    "        display(questions_selection[question_number])\n",
    "        display(next_button)\n",
    "\n",
    "    # Datetime question displayed to the participant\n",
    "    questions_datetime.append(datetime.now())"
   ]
  },
  {
   "cell_type": "code",
   "execution_count": 19,
   "id": "567e3b1c-537f-4363-9570-258ee92ace65",
   "metadata": {},
   "outputs": [],
   "source": [
    "def participantCommentWebPage():\n",
    "    # Datetime last question ended to be displayed to the participant\n",
    "    questions_datetime.append(datetime.now())\n",
    "    \n",
    "    output.clear_output()\n",
    "    with output:\n",
    "        display(widgets.HTML(value = '''<h2>Additional Comments/Suggestions</h2>'''))\n",
    "        display(widgets.HTML(value = '''<p>If you have any comments or suggestions regarding the questionnaire you want to tell us, please fill the text box below.<br>\n",
    "        NB: It is optional, so you haven't any, you can leave the box empty and click the button next.</p>'''))\n",
    "        display(participant_suggestion_text_area)\n",
    "        \n",
    "        display(next_button)"
   ]
  },
  {
   "cell_type": "code",
   "execution_count": 20,
   "id": "cd92f5de",
   "metadata": {},
   "outputs": [],
   "source": [
    "def participatInfoWebPage():\n",
    "    output.clear_output()\n",
    "    with output:\n",
    "        display(widgets.HTML(value = '''<h2>Information about the survey participant</h2>'''))\n",
    "        display(widgets.HTML(value = '''<p>We would like to collect some information about you to do a demographic analysis of the participants in our questionnaire.</p>'''))\n",
    "        display(widgets.HTML(value = '''<h3>Gender</h3>'''))\n",
    "        display(gender_selection)\n",
    "        display(widgets.HTML(value = '''<h3>Age</h3>'''))\n",
    "        display(age_selection)\n",
    "        display(widgets.HTML(value = '''<h3>Education</h3>'''))\n",
    "        display(education_selection)\n",
    "        display(widgets.HTML(value = '''<h3>English Level</h3>'''))\n",
    "        display(english_level_selection)\n",
    "        display(submit_button)\n",
    "        display(widgets.HTML(value = '''<p>NB: The sending of the answers could take a few seconds.</p>'''))"
   ]
  },
  {
   "cell_type": "code",
   "execution_count": 21,
   "id": "77258c71",
   "metadata": {},
   "outputs": [],
   "source": [
    "def endquestionnaireWebPage():\n",
    "    output.clear_output()\n",
    "    with output:\n",
    "        display(widgets.HTML(value = '''<h2>The questionnaire is ended</h2>'''))\n",
    "        display(widgets.HTML(value = '''<p>The questionnaire was submitted correctly and you can now close the browser tab. <br>\n",
    "        Thank you very much for the partecipation.</p>'''))"
   ]
  },
  {
   "cell_type": "code",
   "execution_count": 22,
   "id": "7ea74ac2",
   "metadata": {},
   "outputs": [],
   "source": [
    "web_pages_order = [introductionWebPage, exampleWebPage, comprehensionTestWebPage, questionnaireInstructionWebPage, participantCommentWebPage, participatInfoWebPage, endquestionnaireWebPage]\n",
    "\n",
    "index_element = web_pages_order.index(questionnaireInstructionWebPage)\n",
    "\n",
    "for x in range(N):\n",
    "    web_pages_order.insert(index_element + 1, questionWebPage)"
   ]
  },
  {
   "cell_type": "code",
   "execution_count": 23,
   "id": "2e7e46d7",
   "metadata": {},
   "outputs": [],
   "source": [
    "web_pages = ['welcomeWebPage', 'introductionWebPage', 'exampleWebPage', 'comprehensionTestWebPage', 'questionnaireInstructionWebPage', 'participantCommentWebPage', 'participatInfoWebPage', 'endquestionnaireWebPage']\n",
    "\n",
    "index_element = web_pages.index('questionnaireInstructionWebPage')\n",
    "\n",
    "for x in range(N):\n",
    "    web_pages.insert(index_element + 1, 'questionWebPage')"
   ]
  },
  {
   "cell_type": "code",
   "execution_count": 24,
   "id": "35c46d69-0024-4627-a688-557887665d8b",
   "metadata": {},
   "outputs": [],
   "source": [
    "def answerCreation():\n",
    "    row = []\n",
    "    \n",
    "    #section Warm_Up\n",
    "    row += [str(example_selection_1.value) + ', ' + str(example_selection_2.value)] +  [(comprehension_test_datetime[1] - comprehension_test_datetime[0]).total_seconds()]\n",
    "    \n",
    "    # Section Questions\n",
    "    for n in range(5):\n",
    "        # Time taken by the participant to answer the ith question\n",
    "        time_taken = (questions_datetime[n + 1] - questions_datetime[n]).total_seconds()\n",
    "        \n",
    "        row += [str(questions_order[n]) + ', ' + str((questions_selection[n].value)) + ', ' + str(correct_classifications[n]) + ', ' + questions_representation[n]] + [str(time_taken)]\n",
    "    \n",
    "    # Section Additional Comment\n",
    "    row += [str(participant_suggestion_text_area.value)]\n",
    "    \n",
    "    \n",
    "    # Section Participant Information\n",
    "    row += [str(gender_selection.value)] + [str(age_selection.value)] + [str(education_selection.value)] + [str(english_level_selection.value)]\n",
    "            \n",
    "    return row"
   ]
  },
  {
   "cell_type": "code",
   "execution_count": 25,
   "id": "b82d47db-b38c-4bc3-a756-aaf2ccd9ee83",
   "metadata": {},
   "outputs": [],
   "source": [
    "error_message = False"
   ]
  },
  {
   "cell_type": "code",
   "execution_count": 26,
   "id": "df9344f2",
   "metadata": {},
   "outputs": [],
   "source": [
    "def next_clicked(b):\n",
    "    current_web_page = web_pages[0]\n",
    "    global error_message\n",
    "\n",
    "    if current_web_page == 'comprehensionTestWebPage':\n",
    "        if example_selection_1.value == None or example_selection_2.value == None:\n",
    "            if error_message == False:\n",
    "                error_message = True\n",
    "                with output:\n",
    "                    display(widgets.HTML(value = '''<p>Answer all the questions before continuing!</p>'''))\n",
    "            return\n",
    "        \n",
    "        if error_message:\n",
    "            error_message = False\n",
    "            \n",
    "    elif current_web_page == 'questionWebPage':\n",
    "        if (len(questions_numbers) != 0 and questions_selection[questions_numbers[0] - 1].value == None) or (len(questions_numbers) == 0 and questions_selection[4].value == None):\n",
    "            if error_message == False:\n",
    "                error_message = True\n",
    "                with output:\n",
    "                    display(widgets.HTML(value = '''<p>Answer all the questions before continuing!</p>'''))\n",
    "            return\n",
    "        \n",
    "        if error_message:\n",
    "            error_message = False\n",
    "        \n",
    "    web_pages.pop(0)\n",
    "    web_page = web_pages_order.pop(0)\n",
    "    web_page()\n",
    "\n",
    "def submit_clicked(b):\n",
    "    current_web_page = web_pages[0]\n",
    "    global error_message\n",
    "    \n",
    "    if current_web_page == 'participatInfoWebPage':\n",
    "        if gender_selection.value == None or age_selection.value == None or education_selection.value == None or english_level_selection.value == None:\n",
    "            if error_message == False:\n",
    "                error_message = True\n",
    "                with output:\n",
    "                    print('Answer all the questions before continuing!')\n",
    "            return\n",
    "            \n",
    "        if error_message:\n",
    "            error_message = False\n",
    "    \n",
    "    gc = gspread.service_account_from_dict(survey_bot)\n",
    "    sh = gc.open('SurveyAnswers')\n",
    "    worksheet = sh.sheet1\n",
    "    worksheet.append_row(answerCreation())\n",
    "    \n",
    "    web_pages.pop(0)\n",
    "    web_page = web_pages_order.pop(0)\n",
    "    web_page()\n",
    "    \n",
    "next_button.on_click(next_clicked)\n",
    "submit_button.on_click(submit_clicked)"
   ]
  },
  {
   "cell_type": "code",
   "execution_count": 27,
   "id": "8398c3af",
   "metadata": {},
   "outputs": [
    {
     "data": {
      "application/vnd.jupyter.widget-view+json": {
       "model_id": "72d9e1c77a5944af8c77f41e0fd330a4",
       "version_major": 2,
       "version_minor": 0
      },
      "text/plain": [
       "Output()"
      ]
     },
     "metadata": {},
     "output_type": "display_data"
    }
   ],
   "source": [
    "welcomeWebPage()"
   ]
  }
 ],
 "metadata": {
  "kernelspec": {
   "display_name": "Python 3 (ipykernel)",
   "language": "python",
   "name": "python3"
  },
  "language_info": {
   "codemirror_mode": {
    "name": "ipython",
    "version": 3
   },
   "file_extension": ".py",
   "mimetype": "text/x-python",
   "name": "python",
   "nbconvert_exporter": "python",
   "pygments_lexer": "ipython3",
   "version": "3.10.2"
  }
 },
 "nbformat": 4,
 "nbformat_minor": 5
}
